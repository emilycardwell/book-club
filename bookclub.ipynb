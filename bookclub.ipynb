{
 "cells": [
  {
   "cell_type": "code",
   "execution_count": 1,
   "metadata": {},
   "outputs": [],
   "source": [
    "import pandas as pd\n",
    "import os\n",
    "import csv\n",
    "import pyrankvote as prv"
   ]
  },
  {
   "cell_type": "code",
   "execution_count": 2,
   "metadata": {},
   "outputs": [],
   "source": [
    "data_path = os.environ['DATA_PATH']"
   ]
  },
  {
   "cell_type": "code",
   "execution_count": 3,
   "metadata": {},
   "outputs": [
    {
     "data": {
      "text/html": [
       "<div>\n",
       "<style scoped>\n",
       "    .dataframe tbody tr th:only-of-type {\n",
       "        vertical-align: middle;\n",
       "    }\n",
       "\n",
       "    .dataframe tbody tr th {\n",
       "        vertical-align: top;\n",
       "    }\n",
       "\n",
       "    .dataframe thead th {\n",
       "        text-align: right;\n",
       "    }\n",
       "</style>\n",
       "<table border=\"1\" class=\"dataframe\">\n",
       "  <thead>\n",
       "    <tr style=\"text-align: right;\">\n",
       "      <th></th>\n",
       "      <th>Book</th>\n",
       "      <th>Author</th>\n",
       "    </tr>\n",
       "  </thead>\n",
       "  <tbody>\n",
       "    <tr>\n",
       "      <th>0</th>\n",
       "      <td>A Love Letter to This Bridge Called My Back</td>\n",
       "      <td>Mult</td>\n",
       "    </tr>\n",
       "    <tr>\n",
       "      <th>1</th>\n",
       "      <td>All About Love</td>\n",
       "      <td>Bell Hooks</td>\n",
       "    </tr>\n",
       "    <tr>\n",
       "      <th>2</th>\n",
       "      <td>Americanah</td>\n",
       "      <td>Chimamande Ngozi Adichie</td>\n",
       "    </tr>\n",
       "    <tr>\n",
       "      <th>3</th>\n",
       "      <td>Bad Feminist</td>\n",
       "      <td>Roxane Gay</td>\n",
       "    </tr>\n",
       "    <tr>\n",
       "      <th>4</th>\n",
       "      <td>Everything I Know About love</td>\n",
       "      <td>Dolly Alderton</td>\n",
       "    </tr>\n",
       "  </tbody>\n",
       "</table>\n",
       "</div>"
      ],
      "text/plain": [
       "                                          Book                    Author\n",
       "0  A Love Letter to This Bridge Called My Back                      Mult\n",
       "1                               All About Love                Bell Hooks\n",
       "2                                   Americanah  Chimamande Ngozi Adichie\n",
       "3                                 Bad Feminist                Roxane Gay\n",
       "4                 Everything I Know About love            Dolly Alderton"
      ]
     },
     "execution_count": 3,
     "metadata": {},
     "output_type": "execute_result"
    }
   ],
   "source": [
    "file_name = 'Feb2023.csv'\n",
    "file_path = f'{data_path}/{file_name}'\n",
    "\n",
    "feb_df = pd.read_csv(file_path)\n",
    "\n",
    "sorted_df = feb_df.sort_values('Book').reset_index(drop=True).loc[:, ['Book', 'Author']]\n",
    "sorted_df.head()"
   ]
  },
  {
   "cell_type": "code",
   "execution_count": 4,
   "metadata": {},
   "outputs": [],
   "source": [
    "items = []\n",
    "for key, data in sorted_df.iterrows():\n",
    "    items.append(f'{data[0]} - {data[1]}')"
   ]
  },
  {
   "cell_type": "code",
   "execution_count": 11,
   "metadata": {},
   "outputs": [],
   "source": [
    "#write\n",
    "with open('data/ballots.csv', 'a') as final_cand:\n",
    "    writer = csv.writer(final_cand)\n",
    "    writer.writerow(items)\n",
    "    final_cand.close()"
   ]
  },
  {
   "cell_type": "code",
   "execution_count": 8,
   "metadata": {},
   "outputs": [],
   "source": [
    "#read\n",
    "with open('data/ballots.csv', 'r') as test_ballot:\n",
    "    reader = csv.reader(test_ballot)\n",
    "    for ballot in reader:\n",
    "        print(ballot)"
   ]
  },
  {
   "cell_type": "code",
   "execution_count": 7,
   "metadata": {},
   "outputs": [],
   "source": [
    "# clear\n",
    "with open('data/ballots.csv', 'w') as candidates:\n",
    "    writer = csv.writer(candidates)\n",
    "    candidates.close()"
   ]
  },
  {
   "cell_type": "code",
   "execution_count": 14,
   "metadata": {},
   "outputs": [
    {
     "name": "stdout",
     "output_type": "stream",
     "text": [
      "A Love Letter to This Bridge Called My Back - Mult\n"
     ]
    }
   ],
   "source": [
    "count = 3\n",
    "ballots_raw = []\n",
    "\n",
    "\n",
    "with open('data/ballots.csv', 'r') as final_ballots:\n",
    "    reader = csv.reader(final_ballots)\n",
    "    c = 0\n",
    "    for i in reader:\n",
    "        ballots_raw.append(i)\n",
    "        c += 1\n",
    "        \n",
    "    if int(count) != c:\n",
    "        print(f\"Waiting for all other votes to be submitted... ({c}/3)\")\n",
    "        \n",
    "    final_ballots.close()\n",
    "\n",
    "books = []\n",
    "ballots = []\n",
    "\n",
    "j = 0\n",
    "for ballot_raw in ballots_raw:\n",
    "    ballot_cand_form = []\n",
    "    for book_raw in ballot_raw:\n",
    "        book_form = prv.Candidate(book_raw)\n",
    "        ballot_cand_form.append(book_form)\n",
    "        if j == 0:\n",
    "            books.append(book_form)\n",
    "    ballots.append(prv.Ballot(ballot_cand_form))\n",
    "    j += 1\n",
    "    \n",
    "results = prv.instant_runoff_voting(books, ballots)\n",
    "winner = results.get_winners()\n",
    "print(winner[0])"
   ]
  },
  {
   "cell_type": "code",
   "execution_count": null,
   "metadata": {},
   "outputs": [],
   "source": []
  }
 ],
 "metadata": {
  "kernelspec": {
   "display_name": "lewagon",
   "language": "python",
   "name": "python3"
  },
  "language_info": {
   "codemirror_mode": {
    "name": "ipython",
    "version": 3
   },
   "file_extension": ".py",
   "mimetype": "text/x-python",
   "name": "python",
   "nbconvert_exporter": "python",
   "pygments_lexer": "ipython3",
   "version": "3.10.6"
  },
  "orig_nbformat": 4,
  "vscode": {
   "interpreter": {
    "hash": "6ffc35d46f337c4201c4fad81bb678395bc2c122ed1eeab8d96f421dd7a87373"
   }
  }
 },
 "nbformat": 4,
 "nbformat_minor": 2
}
