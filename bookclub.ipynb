{
 "cells": [
  {
   "cell_type": "code",
   "execution_count": 1,
   "metadata": {},
   "outputs": [],
   "source": [
    "import pandas as pd\n",
    "import os\n",
    "import streamlit as st\n",
    "from streamlit_sortables import sort_items"
   ]
  },
  {
   "cell_type": "code",
   "execution_count": 2,
   "metadata": {},
   "outputs": [],
   "source": [
    "data_path = os.environ['DATA_PATH']"
   ]
  },
  {
   "cell_type": "code",
   "execution_count": 3,
   "metadata": {},
   "outputs": [
    {
     "data": {
      "text/html": [
       "<div>\n",
       "<style scoped>\n",
       "    .dataframe tbody tr th:only-of-type {\n",
       "        vertical-align: middle;\n",
       "    }\n",
       "\n",
       "    .dataframe tbody tr th {\n",
       "        vertical-align: top;\n",
       "    }\n",
       "\n",
       "    .dataframe thead th {\n",
       "        text-align: right;\n",
       "    }\n",
       "</style>\n",
       "<table border=\"1\" class=\"dataframe\">\n",
       "  <thead>\n",
       "    <tr style=\"text-align: right;\">\n",
       "      <th></th>\n",
       "      <th>Book</th>\n",
       "      <th>Author</th>\n",
       "    </tr>\n",
       "  </thead>\n",
       "  <tbody>\n",
       "    <tr>\n",
       "      <th>0</th>\n",
       "      <td>A Love Letter to This Bridge Called My Back</td>\n",
       "      <td>Mult.</td>\n",
       "    </tr>\n",
       "    <tr>\n",
       "      <th>1</th>\n",
       "      <td>All About Love</td>\n",
       "      <td>Bell Hooks</td>\n",
       "    </tr>\n",
       "    <tr>\n",
       "      <th>2</th>\n",
       "      <td>Americanah</td>\n",
       "      <td>Chimamande Ngozi Adichie</td>\n",
       "    </tr>\n",
       "    <tr>\n",
       "      <th>3</th>\n",
       "      <td>Bad Feminist</td>\n",
       "      <td>Roxane Gay</td>\n",
       "    </tr>\n",
       "    <tr>\n",
       "      <th>4</th>\n",
       "      <td>Everything I Know About love</td>\n",
       "      <td>Dolly Alderton</td>\n",
       "    </tr>\n",
       "  </tbody>\n",
       "</table>\n",
       "</div>"
      ],
      "text/plain": [
       "                                          Book                    Author\n",
       "0  A Love Letter to This Bridge Called My Back                     Mult.\n",
       "1                               All About Love                Bell Hooks\n",
       "2                                   Americanah  Chimamande Ngozi Adichie\n",
       "3                                 Bad Feminist                Roxane Gay\n",
       "4                 Everything I Know About love            Dolly Alderton"
      ]
     },
     "execution_count": 3,
     "metadata": {},
     "output_type": "execute_result"
    }
   ],
   "source": [
    "file_name = 'Feb2023.csv'\n",
    "file_path = f'{data_path}/{file_name}'\n",
    "\n",
    "feb_df = pd.read_csv(file_path)\n",
    "\n",
    "sorted_df = feb_df.sort_values('Book').reset_index(drop=True).loc[:, ['Book', 'Author']]\n",
    "sorted_df.head()"
   ]
  },
  {
   "cell_type": "code",
   "execution_count": 7,
   "metadata": {},
   "outputs": [
    {
     "data": {
      "text/plain": [
       "['A Love Letter to This Bridge Called My Back - Mult.',\n",
       " 'All About Love - Bell Hooks',\n",
       " 'Americanah - Chimamande Ngozi Adichie',\n",
       " 'Bad Feminist - Roxane Gay',\n",
       " 'Everything I Know About love - Dolly Alderton',\n",
       " 'Feminism is for Everybody - Bell Hooks',\n",
       " 'Gender Trouble - Judith Butler',\n",
       " 'Get a Life! - Vivienne Westwood',\n",
       " \"Howl's Moving Castle - - Diana Wynne Jones\",\n",
       " \"In Search of Our Mothers' Gardens - Alice Walker\",\n",
       " 'Juliet Takes a Breath - Gabby Rivera',\n",
       " 'Middlesex - Jeffrey Eugenides',\n",
       " 'One Hundred Years of Solitude - Gabriel Garcia Marquez',\n",
       " 'Orlando - Virginia Woolf',\n",
       " 'Pachinko - Min Jin Lee',\n",
       " 'She Came to stay - Simone de Beauvoir',\n",
       " 'Tar Baby - Toni Morrison',\n",
       " 'The Beauty Myth - Naomi Wolf',\n",
       " 'The Bloody Chamber - Angela Carter',\n",
       " 'The Coming of Age - Simone de Beauvoir',\n",
       " 'The Female Eunuch - Germaine Greer',\n",
       " 'The Golden Notebook - Doris Lessing',\n",
       " 'The Kiss Quotient - Helen Hoang',\n",
       " 'The Second Sex - Simone de Beauvoir',\n",
       " 'The Seed Keeper - Diane Wilson',\n",
       " 'The Woman Destroyed - Simone de Beauvoir',\n",
       " 'Women and Power - Mary Beard',\n",
       " 'Women, Culture & Politics - Angela Y.Davis']"
      ]
     },
     "execution_count": 7,
     "metadata": {},
     "output_type": "execute_result"
    }
   ],
   "source": [
    "items = []\n",
    "for key, data in sorted_df.iterrows():\n",
    "    items.append(f'{data[0]} - {data[1]}')"
   ]
  },
  {
   "cell_type": "code",
   "execution_count": null,
   "metadata": {},
   "outputs": [],
   "source": []
  }
 ],
 "metadata": {
  "kernelspec": {
   "display_name": "lewagon",
   "language": "python",
   "name": "python3"
  },
  "language_info": {
   "codemirror_mode": {
    "name": "ipython",
    "version": 3
   },
   "file_extension": ".py",
   "mimetype": "text/x-python",
   "name": "python",
   "nbconvert_exporter": "python",
   "pygments_lexer": "ipython3",
   "version": "3.10.6"
  },
  "orig_nbformat": 4,
  "vscode": {
   "interpreter": {
    "hash": "6ffc35d46f337c4201c4fad81bb678395bc2c122ed1eeab8d96f421dd7a87373"
   }
  }
 },
 "nbformat": 4,
 "nbformat_minor": 2
}
