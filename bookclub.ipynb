{
 "cells": [
  {
   "cell_type": "code",
   "execution_count": 3,
   "metadata": {},
   "outputs": [],
   "source": [
    "import pandas as pd"
   ]
  },
  {
   "cell_type": "code",
   "execution_count": 8,
   "metadata": {},
   "outputs": [
    {
     "data": {
      "text/html": [
       "<div>\n",
       "<style scoped>\n",
       "    .dataframe tbody tr th:only-of-type {\n",
       "        vertical-align: middle;\n",
       "    }\n",
       "\n",
       "    .dataframe tbody tr th {\n",
       "        vertical-align: top;\n",
       "    }\n",
       "\n",
       "    .dataframe thead th {\n",
       "        text-align: right;\n",
       "    }\n",
       "</style>\n",
       "<table border=\"1\" class=\"dataframe\">\n",
       "  <thead>\n",
       "    <tr style=\"text-align: right;\">\n",
       "      <th></th>\n",
       "      <th>Book</th>\n",
       "      <th>Author</th>\n",
       "      <th>Date Published</th>\n",
       "      <th>Genre/Themes</th>\n",
       "      <th>URL</th>\n",
       "    </tr>\n",
       "  </thead>\n",
       "  <tbody>\n",
       "    <tr>\n",
       "      <th>13</th>\n",
       "      <td>A Love Letter to This Bridge Called My Back</td>\n",
       "      <td>Mult.</td>\n",
       "      <td>2022</td>\n",
       "      <td>Essays by POC writers</td>\n",
       "      <td>https://www.goodreads.com/book/show/61613341-a...</td>\n",
       "    </tr>\n",
       "    <tr>\n",
       "      <th>10</th>\n",
       "      <td>All About Love</td>\n",
       "      <td>Bell Hooks</td>\n",
       "      <td>1999</td>\n",
       "      <td>NF feminism, self-help</td>\n",
       "      <td>https://www.goodreads.com/book/show/17607.All_...</td>\n",
       "    </tr>\n",
       "  </tbody>\n",
       "</table>\n",
       "</div>"
      ],
      "text/plain": [
       "                                           Book      Author  Date Published  \\\n",
       "13  A Love Letter to This Bridge Called My Back       Mult.            2022   \n",
       "10                               All About Love  Bell Hooks            1999   \n",
       "\n",
       "              Genre/Themes                                                URL  \n",
       "13   Essays by POC writers  https://www.goodreads.com/book/show/61613341-a...  \n",
       "10  NF feminism, self-help  https://www.goodreads.com/book/show/17607.All_...  "
      ]
     },
     "execution_count": 8,
     "metadata": {},
     "output_type": "execute_result"
    }
   ],
   "source": [
    "filename = 'Feb2023.csv'\n",
    "\n",
    "feb_df = pd.read_csv(filename)\n",
    "\n",
    "feb_df.sort_values('Book', inplace=True)\n",
    "feb_df.head(2)"
   ]
  },
  {
   "cell_type": "code",
   "execution_count": 17,
   "metadata": {},
   "outputs": [],
   "source": [
    "book_auth_df = feb_df.loc[:, ['Book', 'Author']].reset_index(drop=True)"
   ]
  },
  {
   "cell_type": "code",
   "execution_count": 26,
   "metadata": {},
   "outputs": [
    {
     "name": "stdout",
     "output_type": "stream",
     "text": [
      "A Love Letter to This Bridge Called My Back - Mult.\n",
      "All About Love - Bell Hooks\n",
      "Americanah - Chimamande Ngozi Adichie\n",
      "Bad Feminist - Roxane Gay\n",
      "Everything I Know About love - Dolly Alderton\n",
      "Feminism is for Everybody - Bell Hooks\n",
      "Gender Trouble - Judith Butler\n",
      "Get a Life! - Vivienne Westwood\n",
      "Howl's Moving Castle - - Diana Wynne Jones\n",
      "In Search of Our Mothers' Gardens - Alice Walker\n",
      "Juliet Takes a Breath - Gabby Rivera\n",
      "Middlesex - Jeffrey Eugenides\n",
      "One Hundred Years of Solitude - Gabriel Garcia Marquez\n",
      "Orlando - Virginia Woolf\n",
      "Pachinko - Min Jin Lee\n",
      "She Came to stay - Simone de Beauvoir\n",
      "Tar Baby - Toni Morrison\n",
      "The Beauty Myth - Naomi Wolf\n",
      "The Bloody Chamber - Angela Carter\n",
      "The Coming of Age - Simone de Beauvoir\n",
      "The Female Eunuch - Germaine Greer\n",
      "The Golden Notebook - Doris Lessing\n",
      "The Kiss Quotient - Helen Hoang\n",
      "The Second Sex - Simone de Beauvoir\n",
      "The Seed Keeper - Diane Wilson\n",
      "The Woman Destroyed - Simone de Beauvoir\n",
      "Women and Power - Mary Beard\n",
      "Women, Culture & Politics - Angela Y.Davis\n"
     ]
    }
   ],
   "source": [
    "for key, data in book_auth_df.iterrows():\n",
    "    print(data[0], '-', data[1])"
   ]
  },
  {
   "cell_type": "code",
   "execution_count": null,
   "metadata": {},
   "outputs": [],
   "source": []
  }
 ],
 "metadata": {
  "kernelspec": {
   "display_name": "lewagon",
   "language": "python",
   "name": "python3"
  },
  "language_info": {
   "codemirror_mode": {
    "name": "ipython",
    "version": 3
   },
   "file_extension": ".py",
   "mimetype": "text/x-python",
   "name": "python",
   "nbconvert_exporter": "python",
   "pygments_lexer": "ipython3",
   "version": "3.10.6"
  },
  "orig_nbformat": 4,
  "vscode": {
   "interpreter": {
    "hash": "6ffc35d46f337c4201c4fad81bb678395bc2c122ed1eeab8d96f421dd7a87373"
   }
  }
 },
 "nbformat": 4,
 "nbformat_minor": 2
}
